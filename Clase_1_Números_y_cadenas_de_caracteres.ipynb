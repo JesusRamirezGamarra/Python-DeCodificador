{
  "nbformat": 4,
  "nbformat_minor": 0,
  "metadata": {
    "colab": {
      "provenance": [],
      "collapsed_sections": [],
      "include_colab_link": true
    },
    "kernelspec": {
      "name": "python3",
      "display_name": "Python 3"
    },
    "language_info": {
      "name": "python"
    }
  },
  "cells": [
    {
      "cell_type": "markdown",
      "metadata": {
        "id": "view-in-github",
        "colab_type": "text"
      },
      "source": [
        "<a href=\"https://colab.research.google.com/github/JesusRamirezGamarra/Python-DeCodificador/blob/main/Clase_1_N%C3%BAmeros_y_cadenas_de_caracteres.ipynb\" target=\"_parent\"><img src=\"https://colab.research.google.com/assets/colab-badge.svg\" alt=\"Open In Colab\"/></a>"
      ]
    },
    {
      "cell_type": "markdown",
      "source": [
        "print/type"
      ],
      "metadata": {
        "id": "Lbv2XlOuZZZy"
      }
    },
    {
      "cell_type": "code",
      "source": [
        "type(3.4)"
      ],
      "metadata": {
        "colab": {
          "base_uri": "https://localhost:8080/"
        },
        "id": "Zw8TNU40X0iW",
        "outputId": "3915d758-a74a-48f3-8419-47a8f5458802"
      },
      "execution_count": null,
      "outputs": [
        {
          "output_type": "execute_result",
          "data": {
            "text/plain": [
              "float"
            ]
          },
          "metadata": {},
          "execution_count": 4
        }
      ]
    },
    {
      "cell_type": "code",
      "source": [
        "11/5"
      ],
      "metadata": {
        "colab": {
          "base_uri": "https://localhost:8080/"
        },
        "id": "lenqzp8TZmB5",
        "outputId": "1166f0f7-55ec-4713-a2e2-d27f39540d9e"
      },
      "execution_count": null,
      "outputs": [
        {
          "output_type": "execute_result",
          "data": {
            "text/plain": [
              "2.2"
            ]
          },
          "metadata": {},
          "execution_count": 5
        }
      ]
    },
    {
      "cell_type": "code",
      "source": [
        "11//5"
      ],
      "metadata": {
        "colab": {
          "base_uri": "https://localhost:8080/"
        },
        "id": "nGNgzMPfZl0N",
        "outputId": "e3504185-6a95-471f-db0a-82cf890e3f46"
      },
      "execution_count": null,
      "outputs": [
        {
          "output_type": "execute_result",
          "data": {
            "text/plain": [
              "2"
            ]
          },
          "metadata": {},
          "execution_count": 6
        }
      ]
    },
    {
      "cell_type": "code",
      "source": [
        "12%5\n",
        "# 11 // 5"
      ],
      "metadata": {
        "colab": {
          "base_uri": "https://localhost:8080/"
        },
        "id": "AaMVchFaZrBj",
        "outputId": "4114ba1a-7866-47f9-e5b0-a4dd664e7ffa"
      },
      "execution_count": null,
      "outputs": [
        {
          "output_type": "execute_result",
          "data": {
            "text/plain": [
              "2"
            ]
          },
          "metadata": {},
          "execution_count": 8
        }
      ]
    },
    {
      "cell_type": "code",
      "source": [
        "4\n",
        "5"
      ],
      "metadata": {
        "colab": {
          "base_uri": "https://localhost:8080/"
        },
        "id": "oqISYV06bQSy",
        "outputId": "3a0d9d19-93dd-4fca-c646-3503733e0eef"
      },
      "execution_count": null,
      "outputs": [
        {
          "output_type": "execute_result",
          "data": {
            "text/plain": [
              "5"
            ]
          },
          "metadata": {},
          "execution_count": 11
        }
      ]
    },
    {
      "cell_type": "code",
      "source": [
        "print(4)\n",
        "print(5)"
      ],
      "metadata": {
        "colab": {
          "base_uri": "https://localhost:8080/"
        },
        "id": "RK9WkeC0bEeh",
        "outputId": "62c007ab-3fcd-4d74-dd08-ec8a65f9e431"
      },
      "execution_count": null,
      "outputs": [
        {
          "output_type": "stream",
          "name": "stdout",
          "text": [
            "4\n",
            "5\n"
          ]
        }
      ]
    },
    {
      "cell_type": "markdown",
      "source": [
        "# Numeros"
      ],
      "metadata": {
        "id": "DiFu0yDW9bNi"
      }
    },
    {
      "cell_type": "code",
      "execution_count": null,
      "metadata": {
        "id": "_0g9PFsDIQ3G"
      },
      "outputs": [],
      "source": [
        "print(type(1)) # int => enteros\n",
        "print(type(2.5)) # float => flotantes\n",
        "print(type(2.5j)) # complex => complejos\n",
        "# print(type(2.5L)) # long => se utilizaba en versiones anteriores de python"
      ]
    },
    {
      "cell_type": "code",
      "source": [],
      "metadata": {
        "id": "KODo6-FobeoH"
      },
      "execution_count": null,
      "outputs": []
    },
    {
      "cell_type": "markdown",
      "source": [
        "### Operadores aritmeticos"
      ],
      "metadata": {
        "id": "NgcpZs01ptoW"
      }
    },
    {
      "cell_type": "code",
      "source": [
        "# Suma\n",
        "print(3+3)\n",
        "\n",
        "# Resta\n",
        "print(3-3)\n",
        "\n",
        "# Multiplicacion\n",
        "print(3*3)\n",
        "\n",
        "# Division decimal\n",
        "print(5/3)\n",
        "\n",
        "# Division Entera\n",
        "print(5//3)\n",
        "\n",
        "# Modulo ( Resto de la division entera de 5 y 3 )\n",
        "print(5%3)\n",
        "\n",
        "# Potenciacion\n",
        "print(5**3)"
      ],
      "metadata": {
        "id": "Z6o8Z_4wIZgR"
      },
      "execution_count": null,
      "outputs": []
    },
    {
      "cell_type": "markdown",
      "source": [
        "### Expresión\n",
        "\n",
        "\n",
        "5 + 5 * 12 / 3"
      ],
      "metadata": {
        "id": "YYPD37tEZi8b"
      }
    },
    {
      "cell_type": "markdown",
      "source": [
        "### Procedencia\n",
        "\n",
        "python ejecuta operacion de izq a derecha\n",
        "\n",
        "---\n",
        "\n",
        "() -> ** -> / // * %  -> + -\n",
        "\n",
        "primero -> segundo -> tercero -> cuarto\n",
        "\n",
        "---\n",
        "\n",
        "1ro. ()\n",
        "\n",
        "2do. **\n",
        "\n",
        "3ro. * / // %\n",
        "\n",
        "4to. + - \n",
        "\n",
        "---"
      ],
      "metadata": {
        "id": "Bjlh3mvLpOjs"
      }
    },
    {
      "cell_type": "code",
      "source": [
        "5 + 5 * 12 / 3 - 45 + 3 ** 5"
      ],
      "metadata": {
        "id": "fOERFpIDbEdM",
        "colab": {
          "base_uri": "https://localhost:8080/"
        },
        "outputId": "25105141-60dd-4c54-b153-f803d10f902c"
      },
      "execution_count": null,
      "outputs": [
        {
          "output_type": "execute_result",
          "data": {
            "text/plain": [
              "223.0"
            ]
          },
          "metadata": {},
          "execution_count": 14
        }
      ]
    },
    {
      "cell_type": "markdown",
      "source": [
        "\n",
        "5 + 5 * 12 / 3 - 45 + 3 ** 5\n",
        "\n",
        "5 + 5 * 12 / 3 - 45 + 243\n",
        "\n",
        "5 + 20 - 45 + 243\n",
        "\n",
        "223"
      ],
      "metadata": {
        "id": "X5bk20Qraade"
      }
    },
    {
      "cell_type": "code",
      "source": [
        "5 + 5 * 12 / 3 - ( 45 + 3 ** 5 )"
      ],
      "metadata": {
        "id": "ZGgbSzs4a4Qm",
        "colab": {
          "base_uri": "https://localhost:8080/"
        },
        "outputId": "1bae0721-a869-445b-e471-8629e2eecd3a"
      },
      "execution_count": null,
      "outputs": [
        {
          "output_type": "execute_result",
          "data": {
            "text/plain": [
              "-263.0"
            ]
          },
          "metadata": {},
          "execution_count": 15
        }
      ]
    },
    {
      "cell_type": "markdown",
      "source": [
        "5 + 5 * 12 / 3 - ( 45 + 3 ** 5 )\n",
        "\n",
        "5 + 5 * 12 / 3 - ( 45 + 243 )\n",
        "\n",
        "5 + 5 * 12 / 3 - 288\n",
        "\n",
        "5 + 20 - 288\n",
        "\n",
        "-263"
      ],
      "metadata": {
        "id": "FH8PDlcIbBCm"
      }
    },
    {
      "cell_type": "markdown",
      "source": [
        "# Cadenas de texto"
      ],
      "metadata": {
        "id": "_3FOXplJp51G"
      }
    },
    {
      "cell_type": "code",
      "source": [
        "'mama! cortaste la luz'\n",
        "\"mama! cortaste la luz?\""
      ],
      "metadata": {
        "colab": {
          "base_uri": "https://localhost:8080/",
          "height": 36
        },
        "id": "wLo5cy7VdXuU",
        "outputId": "aa241416-db34-4ebf-c38d-1974ba34efbc"
      },
      "execution_count": null,
      "outputs": [
        {
          "output_type": "execute_result",
          "data": {
            "text/plain": [
              "'mama! cortaste la luz?'"
            ],
            "application/vnd.google.colaboratory.intrinsic+json": {
              "type": "string"
            }
          },
          "metadata": {},
          "execution_count": 19
        }
      ]
    },
    {
      "cell_type": "code",
      "source": [
        "print('mama! cortaste la luz')\n",
        "print(\"mama! cortaste la luz\")"
      ],
      "metadata": {
        "colab": {
          "base_uri": "https://localhost:8080/"
        },
        "id": "jxIEFgc3qMNT",
        "outputId": "3e6f799a-f367-49b6-9382-666bde24b838"
      },
      "execution_count": null,
      "outputs": [
        {
          "output_type": "stream",
          "name": "stdout",
          "text": [
            "mama! cortaste la luz\n",
            "mama! cortaste la luz?\n"
          ]
        }
      ]
    },
    {
      "cell_type": "code",
      "source": [
        "print('It is blue')\n",
        "print('It's blue')"
      ],
      "metadata": {
        "id": "cmUStKUo3Qg0",
        "colab": {
          "base_uri": "https://localhost:8080/",
          "height": 130
        },
        "outputId": "f2c37cf7-c99b-491d-c2d2-24b908fc3b49"
      },
      "execution_count": null,
      "outputs": [
        {
          "output_type": "error",
          "ename": "SyntaxError",
          "evalue": "ignored",
          "traceback": [
            "\u001b[0;36m  File \u001b[0;32m\"<ipython-input-22-6721851cdc39>\"\u001b[0;36m, line \u001b[0;32m2\u001b[0m\n\u001b[0;31m    print('It's blue')\u001b[0m\n\u001b[0m              ^\u001b[0m\n\u001b[0;31mSyntaxError\u001b[0m\u001b[0;31m:\u001b[0m invalid syntax\n"
          ]
        }
      ]
    },
    {
      "cell_type": "code",
      "source": [
        "print(\"Y Ricardo grito: mama! cortaste la luz\")\n",
        "print(\"Y Ricardo grito: \"mama! cortaste la luz\"\")"
      ],
      "metadata": {
        "id": "qvnJqSjn4F8Y",
        "colab": {
          "base_uri": "https://localhost:8080/",
          "height": 130
        },
        "outputId": "a96352c2-1bad-463b-e8d7-d3eca9f2e881"
      },
      "execution_count": null,
      "outputs": [
        {
          "output_type": "error",
          "ename": "SyntaxError",
          "evalue": "ignored",
          "traceback": [
            "\u001b[0;36m  File \u001b[0;32m\"<ipython-input-23-cd5b61a5641e>\"\u001b[0;36m, line \u001b[0;32m1\u001b[0m\n\u001b[0;31m    print(\"Y Ricardo grito: \"mama! cortaste la luz\"\")\u001b[0m\n\u001b[0m                                ^\u001b[0m\n\u001b[0;31mSyntaxError\u001b[0m\u001b[0;31m:\u001b[0m invalid syntax\n"
          ]
        }
      ]
    },
    {
      "cell_type": "code",
      "source": [
        "print(\"It's blue\")\n",
        "print('Y Ricardo grito: \"mama! cortaste la luz\"')"
      ],
      "metadata": {
        "id": "7wS1GtE635G4",
        "colab": {
          "base_uri": "https://localhost:8080/"
        },
        "outputId": "85abc0b9-9fd6-473e-ae62-6b2515f7d853"
      },
      "execution_count": null,
      "outputs": [
        {
          "output_type": "stream",
          "name": "stdout",
          "text": [
            "It's blue\n",
            "Y Ricardo grito: \"mama! cortaste la luz\"\n"
          ]
        }
      ]
    },
    {
      "cell_type": "code",
      "source": [
        "# ARREGLAR\n",
        "\n",
        "# Cadena con formato, escape de caracteres, raw-string, f-string\n",
        "\n",
        "print(\"\\\"letras\\\", \\\"palabras\\\"\")\n",
        "print('\"letras\", \"palabras\"')\n",
        "print(\"'letras',\\n 'palabras'\")\n",
        "# print('''\n",
        "# asdasdasdasd\n",
        "# ''')\n",
        "# print(\"\"\"\n",
        "# 'letras',\n",
        "#          'palabras'\n",
        "# \"\"\")\n",
        "# print(\"\"\"dfgdfgdfg\n",
        "# 'letras',\n",
        "#  'palabras'\n",
        "# dfgdfgdfg\"\"\")"
      ],
      "metadata": {
        "id": "-8V2n0kEJ2oD"
      },
      "execution_count": null,
      "outputs": []
    },
    {
      "cell_type": "code",
      "source": [
        "print('mama! \\tcortaste la luz')"
      ],
      "metadata": {
        "id": "7xw-gpjDqWdB"
      },
      "execution_count": null,
      "outputs": []
    },
    {
      "cell_type": "code",
      "source": [
        "print(\"C:\\norma\\pepe\")\n",
        "print('C:\\tomas\\pepe')\n",
        "print(r\"C:\\norma\\pepe\")"
      ],
      "metadata": {
        "id": "p7mHFnmUMzQI"
      },
      "execution_count": null,
      "outputs": []
    },
    {
      "cell_type": "code",
      "source": [
        "print('\\ttabulacion')\n",
        "print('tabu\\nlacion')\n",
        "print('        tabulacion')\n",
        "# print('\n",
        "# tabulacion\n",
        "# ')\n",
        "print('''tabu\n",
        "lacion''')\n",
        "\n",
        "print('''\n",
        "|nombre |apellido|edad|\n",
        "|pepe   |grillo  |23  |\n",
        "|ricardo|fort    |34  |\n",
        "''')"
      ],
      "metadata": {
        "colab": {
          "base_uri": "https://localhost:8080/"
        },
        "id": "0p0h8rJGisdB",
        "outputId": "234a01a5-4002-4e12-9110-a1a991717413"
      },
      "execution_count": null,
      "outputs": [
        {
          "output_type": "stream",
          "name": "stdout",
          "text": [
            "\ttabulacion\n",
            "tabu\n",
            "lacion\n",
            "        tabulacion\n",
            "tabu\n",
            "lacion\n",
            "\n",
            "|nombre |apellido|edad|\n",
            "|pepe   |grillo  |23  |\n",
            "|ricardo|fort    |34  |\n",
            "\n"
          ]
        }
      ]
    },
    {
      "cell_type": "markdown",
      "source": [
        "# Break"
      ],
      "metadata": {
        "id": "XI2L2G5tqogu"
      }
    },
    {
      "cell_type": "code",
      "source": [
        "5 + 5"
      ],
      "metadata": {
        "colab": {
          "base_uri": "https://localhost:8080/"
        },
        "id": "7aAvCsSGkbKy",
        "outputId": "9ad1dc7b-4f94-4dd4-83f7-da0add476eac"
      },
      "execution_count": null,
      "outputs": [
        {
          "output_type": "execute_result",
          "data": {
            "text/plain": [
              "10"
            ]
          },
          "metadata": {},
          "execution_count": 45
        }
      ]
    },
    {
      "cell_type": "code",
      "source": [
        "5 + 5 + 6"
      ],
      "metadata": {
        "colab": {
          "base_uri": "https://localhost:8080/"
        },
        "id": "ltgCzlM9kerB",
        "outputId": "2e20c4d2-a86e-44c8-f484-4b46402583c6"
      },
      "execution_count": null,
      "outputs": [
        {
          "output_type": "execute_result",
          "data": {
            "text/plain": [
              "16"
            ]
          },
          "metadata": {},
          "execution_count": 47
        }
      ]
    },
    {
      "cell_type": "markdown",
      "source": [
        "Variables\n",
        "\n",
        "x + 3 = 5"
      ],
      "metadata": {
        "id": "5s1hx29_rQOa"
      }
    },
    {
      "cell_type": "code",
      "source": [
        "numero = 23\n",
        "print(numero)\n",
        "suma = 5 + 5\n",
        "print(suma)\n",
        "print(suma)\n",
        "animal = 'oso'\n",
        "print(animal) # esto es un comentario que python no lo lee\n",
        "# esto es otro comentario que python no lo lee\n",
        "# edad del profe = 33\n",
        "edad_del_profe = 33\n",
        "print(edad_del_profe)"
      ],
      "metadata": {
        "id": "ZHNrl_3q-ELV",
        "colab": {
          "base_uri": "https://localhost:8080/"
        },
        "outputId": "af2669ad-7d42-404c-8eae-10e35d2cd2f0"
      },
      "execution_count": null,
      "outputs": [
        {
          "output_type": "stream",
          "name": "stdout",
          "text": [
            "23\n",
            "10\n",
            "10\n",
            "oso\n",
            "33\n"
          ]
        }
      ]
    },
    {
      "cell_type": "markdown",
      "source": [
        "---\n",
        "### Formatos para nombrar una variable\n",
        "---\n",
        "snake_case -> Por cada palabra que contenga el nombre de la variable, las vas a escribir en minuscula y para separarlas vas aponer un _  ( definir variables, funciones, etc... algunas se ven mas adelante)\n",
        "\n",
        "edad_de_pepe = 25\n",
        "\n",
        "---\n",
        "\n",
        "PascalCase -> Por cada palabra que contenga el nombre de la variable su primer letra iria enb mayuscula y no tendrian separador ( definir Clases... se ven mas adelante )\n",
        "\n",
        "EdadDePepe = 25\n",
        "\n",
        "---\n",
        "\n",
        "camelCase -> Casi igual a PascalCase con la diferencia que la primer letra siempre va en minuscula ( se suele utiliar en otros lenguajes )\n",
        "\n",
        "edadDePepe = 25\n",
        "\n",
        "---"
      ],
      "metadata": {
        "id": "MU30jFpb-7vY"
      }
    },
    {
      "cell_type": "code",
      "source": [
        "suma = 2+2\n",
        "print(type(suma))\n",
        "# type(4)\n",
        "print(suma) # 2+2"
      ],
      "metadata": {
        "id": "AWrt8En4meOZ"
      },
      "execution_count": null,
      "outputs": []
    },
    {
      "cell_type": "code",
      "source": [
        "estanteria = 'taza'\n",
        "multiplicacion = 14*15\n",
        "x = 14*15\n",
        "y = 2020\n",
        "anio_nacimiento = 2020\n",
        "\n",
        "print(x)\n",
        "print(multiplicacion)\n",
        "print(y)\n",
        "print(anio_nacimiento)"
      ],
      "metadata": {
        "id": "L6XzmHpyPwhF"
      },
      "execution_count": null,
      "outputs": []
    },
    {
      "cell_type": "code",
      "source": [
        "numero_de_clase, cantidad_alumnos = 34655, 121\n",
        "print(numero_de_clase)\n",
        "print(cantidad_alumnos)"
      ],
      "metadata": {
        "id": "Ege1FOk2nckx"
      },
      "execution_count": null,
      "outputs": []
    },
    {
      "cell_type": "code",
      "source": [
        "# 2 = pepe\n",
        "pepe = 2\n",
        "print(pepe)\n",
        "# variable15\n",
        "variable15 = 15\n",
        "print(variable15)"
      ],
      "metadata": {
        "id": "VMAykXRXRr4f"
      },
      "execution_count": null,
      "outputs": []
    },
    {
      "cell_type": "code",
      "source": [
        "num = 2\n",
        "print(num)\n",
        "variable\n",
        "print(variable)"
      ],
      "metadata": {
        "id": "PjOTz2EkCOSA"
      },
      "execution_count": null,
      "outputs": []
    },
    {
      "cell_type": "code",
      "source": [
        "texto = 'Hola soy pepito'\n",
        "print(texto)"
      ],
      "metadata": {
        "id": "JyN1xueLSOtV"
      },
      "execution_count": null,
      "outputs": []
    },
    {
      "cell_type": "code",
      "source": [
        "var = 'variable'\n",
        "vaR = 'Variable'\n",
        "VaR = 'VariablE'\n",
        "print(var)\n",
        "print(vaR)\n",
        "print(VaR)\n",
        "var = 'var'\n",
        "print(var)"
      ],
      "metadata": {
        "id": "wyWrMjxZTmBA"
      },
      "execution_count": null,
      "outputs": []
    },
    {
      "cell_type": "markdown",
      "source": [
        "# input\n",
        "\n",
        "Siempre devuelve/retorna un string"
      ],
      "metadata": {
        "id": "IxrqO5cWepzy"
      }
    },
    {
      "cell_type": "code",
      "source": [
        "input('Ingrese nombre: ')"
      ],
      "metadata": {
        "colab": {
          "base_uri": "https://localhost:8080/",
          "height": 53
        },
        "id": "CWzs0dkZp97Y",
        "outputId": "59453a9a-2f34-4c65-e9f9-e979cf7d7306"
      },
      "execution_count": null,
      "outputs": [
        {
          "name": "stdout",
          "output_type": "stream",
          "text": [
            "Ingrese nombre: Ricardo\n"
          ]
        },
        {
          "output_type": "execute_result",
          "data": {
            "text/plain": [
              "'Ricardo'"
            ],
            "application/vnd.google.colaboratory.intrinsic+json": {
              "type": "string"
            }
          },
          "metadata": {},
          "execution_count": 66
        }
      ]
    },
    {
      "cell_type": "code",
      "source": [
        "nombre = input('Ingrese nombre: ')\n",
        "print(nombre)"
      ],
      "metadata": {
        "colab": {
          "base_uri": "https://localhost:8080/"
        },
        "id": "7wxN-O_DplXF",
        "outputId": "27bfb13d-3119-4f68-e359-87338c51c20a"
      },
      "execution_count": null,
      "outputs": [
        {
          "output_type": "stream",
          "name": "stdout",
          "text": [
            "Ingrese nombre: Ricardo\n",
            "Ricardo\n"
          ]
        }
      ]
    },
    {
      "cell_type": "code",
      "source": [
        "input('Ingresa un numero: ')"
      ],
      "metadata": {
        "colab": {
          "base_uri": "https://localhost:8080/",
          "height": 53
        },
        "id": "Hi3DDcm6qIJ0",
        "outputId": "34453738-b256-4967-9b31-d00fb65c1df9"
      },
      "execution_count": null,
      "outputs": [
        {
          "name": "stdout",
          "output_type": "stream",
          "text": [
            "Ingresa un numero: 5\n"
          ]
        },
        {
          "output_type": "execute_result",
          "data": {
            "text/plain": [
              "'5'"
            ],
            "application/vnd.google.colaboratory.intrinsic+json": {
              "type": "string"
            }
          },
          "metadata": {},
          "execution_count": 68
        }
      ]
    },
    {
      "cell_type": "code",
      "source": [
        "numero = input('Ingresa un numero: ')\n",
        "print(numero)"
      ],
      "metadata": {
        "id": "meZ8jAWHUPyf",
        "colab": {
          "base_uri": "https://localhost:8080/"
        },
        "outputId": "13ce4241-b209-494c-ef3a-af4c79e1b7cc"
      },
      "execution_count": null,
      "outputs": [
        {
          "output_type": "stream",
          "name": "stdout",
          "text": [
            "Ingresa un numero: 5\n",
            "5\n"
          ]
        }
      ]
    },
    {
      "cell_type": "code",
      "source": [
        "numero = input('Ingresa un numero: ')\n",
        "print(type(numero))"
      ],
      "metadata": {
        "id": "iIloF5bCfJQ8"
      },
      "execution_count": null,
      "outputs": []
    },
    {
      "cell_type": "code",
      "source": [
        "numero = input('Ingresa un numero: ')\n",
        "print(type(numero))\n",
        "print(type(5))\n",
        "print(numero + 5)"
      ],
      "metadata": {
        "id": "6-GrWToLfBrC"
      },
      "execution_count": null,
      "outputs": []
    },
    {
      "cell_type": "markdown",
      "source": [
        "### Castear"
      ],
      "metadata": {
        "id": "pp1k-kVSe4rV"
      }
    },
    {
      "cell_type": "code",
      "source": [
        "# int(aca el valor que queremos transformar a entero)"
      ],
      "metadata": {
        "id": "7YtBnKp9q1P0"
      },
      "execution_count": null,
      "outputs": []
    },
    {
      "cell_type": "code",
      "source": [
        "numero = int(input('Ingresa un numero: '))\n",
        "print(type(numero))\n",
        "print(type(5))\n",
        "print(numero + 5)"
      ],
      "metadata": {
        "id": "wpUCr25yUu8p"
      },
      "execution_count": null,
      "outputs": []
    },
    {
      "cell_type": "markdown",
      "source": [
        "### Operacion con variables"
      ],
      "metadata": {
        "id": "R1ihritpfc6t"
      }
    },
    {
      "cell_type": "code",
      "source": [
        "nombre = 'Ricardo'\n",
        "apellido = 'Fort'\n",
        "numero1 = 5\n",
        "numero2 = 15\n",
        "\n",
        "# Sumar, Restar, Multiplicar, etc\n",
        "print(numero1 + numero2 * numero1)\n",
        "# print(5 + 15 * 5)\n",
        "\n",
        "# Concatenar\n",
        "print(nombre + apellido)\n",
        "# print(nombre, apellido)\n",
        "# variable = nombre, apellido\n",
        "# print(variable)\n",
        "\n",
        "# # Repetir String \n",
        "print(nombre * numero1)"
      ],
      "metadata": {
        "id": "khjRtp8dVcik"
      },
      "execution_count": null,
      "outputs": []
    },
    {
      "cell_type": "markdown",
      "source": [
        "### index"
      ],
      "metadata": {
        "id": "pJtyfu7VgS57"
      }
    },
    {
      "cell_type": "code",
      "source": [
        "texto = 'Probando los indices'\n",
        "#        0123456789...    \n",
        "#                  ...7654321 negativos\n",
        "\n",
        "palabra = 'roca'\n",
        "        #  0123 -->\n",
        "        #  4321 <--\n",
        "\n",
        "print(texto[0])\n",
        "print(texto[8])\n",
        "print(texto[-1])\n",
        "print(texto[19])"
      ],
      "metadata": {
        "id": "nj3kaml3WpVy"
      },
      "execution_count": null,
      "outputs": []
    },
    {
      "cell_type": "markdown",
      "source": [
        "len"
      ],
      "metadata": {
        "id": "OTpsSAfWgbjX"
      }
    },
    {
      "cell_type": "code",
      "source": [
        "palabra = 'roca'\n",
        "print(len('Probando los indices'))\n",
        "print(len(palabra))"
      ],
      "metadata": {
        "id": "PVwF5kyNghCa"
      },
      "execution_count": null,
      "outputs": []
    },
    {
      "cell_type": "markdown",
      "source": [
        "Slicing"
      ],
      "metadata": {
        "id": "yoDrcTeKKvi2"
      }
    },
    {
      "cell_type": "code",
      "source": [
        "texto = 'Probando el slicing'\n",
        "\n",
        "# print(texto)\n",
        "# print(texto[:8])\n",
        "# print(texto[4])\n",
        "# print(texto[4:])\n",
        "# print(texto[4:19])\n",
        "# print(texto[10])\n",
        "# print(texto[4:10])\n",
        "# print(texto[9])\n",
        "# print(texto[:10])\n",
        "# print(texto[-5:])\n",
        "# print(texto[-5:-2])\n",
        "# print(texto[-2:-5]) # no toma nada porque quiere ir de un valor para la parte anterior de la cadena de caracteres\n",
        "# print(texto[principio incluido:final sin incluir:salto])\n",
        "# print(texto[::1])\n",
        "# print(texto[::2])\n",
        "# print(texto[::4])\n",
        "# print(texto[3:12])\n",
        "# print(texto[3:12:2])\n",
        "# print(texto[::-1])\n",
        "# texto_dado_vuelta = texto[::-1]\n",
        "# print(texto)"
      ],
      "metadata": {
        "colab": {
          "base_uri": "https://localhost:8080/"
        },
        "id": "sRaeXC5quOhx",
        "outputId": "104398ef-c38a-4819-a234-e8d4cfd2e553"
      },
      "execution_count": null,
      "outputs": [
        {
          "output_type": "stream",
          "name": "stdout",
          "text": [
            "Probando\n"
          ]
        }
      ]
    },
    {
      "cell_type": "code",
      "source": [
        "\n",
        "\n",
        "\n",
        "# slicing\n",
        "# texto_cortado = texto[0:2] + 's' + texto[-1]\n",
        "# print(texto_cortado)\n",
        "\n",
        "# texto[<inicio>:<final>:<el salto>]\n",
        "# print('hola soy ricardo fort el comandante'[::])\n",
        "# print('hola soy ricardo fort el comandante'[2::])\n",
        "# print('hola soy ricardo fort el comandante'[2:6:])\n",
        "# print('hola soy ricardo fort el comandante'[2:14:2])\n",
        "# print('hola soy ricardo fort el comandante'[2:14])\n",
        "# print('hola soy ricardo fort el comandante'[6:])\n",
        "# print('hola soy ricardo fort el comandante'[:14])\n",
        "# print('hola soy ricardo fort el comandante'[::-1])\n",
        "# print('hola soy ricardo fort el comandante'[-15:-6:])"
      ],
      "metadata": {
        "id": "1hfbiVZ9YTq4"
      },
      "execution_count": null,
      "outputs": []
    },
    {
      "cell_type": "markdown",
      "source": [
        "### Inmutabilidad"
      ],
      "metadata": {
        "id": "XMwNpMC2hFSk"
      }
    },
    {
      "cell_type": "code",
      "source": [
        "texto = 'palabras de mas'\n",
        "# texto[-2] = 'e'\n",
        "# texto_distinto = texto[:-3] + 'menos'\n",
        "# texto = texto[:-3] + 'menos'\n",
        "# print(texto)\n",
        "# print(texto_distinto)\n",
        "\n",
        "\n",
        "# inmutabilidad\n",
        "print(texto)\n",
        "print(texto[3])\n",
        "texto[2] = 's'\n"
      ],
      "metadata": {
        "id": "C_h2ilvobSod"
      },
      "execution_count": null,
      "outputs": []
    },
    {
      "cell_type": "markdown",
      "source": [
        "## Desafío Números (10 min)\n",
        "Descripción de la actividad. \n",
        "\n",
        "En nuestro trabajo, nos solicitan desarrollar un programa que permita calcular el promedio final de los equipos de futbol en un torneo. \n",
        "Para ello, debemos considerar tres aspectos: \n",
        "\n",
        "jugaron 20 partidos durante el torneo, \n",
        "los partidos poseen diferente puntaje según el resultado, los partidos ganados 3 puntos, partido empatado 1 punto, partido perdido 0 puntos,\n",
        "el promedio final resulta de la cantidad de puntos totales divididos la cantidad de partidos\n",
        "\n",
        "La cantidad de partidos que debemos considerar a un equipo para el ejemplo se detallan a continuación: \n",
        "\n",
        "partidos_ganados 8\n",
        "partido_empatados 7\n",
        "partido_perdidos 5\n",
        "\n",
        "Importante: Cada una de las cantidades de partidos ganados, empatados o perdidos debe solicitarse al usuario utilizando la función input().\n"
      ],
      "metadata": {
        "id": "0I7N0oflc5Qx"
      }
    },
    {
      "cell_type": "code",
      "source": [
        "partidos_jugados = 20\n",
        "partidos_ganados_puntaje = 3\n",
        "partidos_empatados_puntaje = 1\n",
        "partidos_perdidos_puntaje = 0\n",
        "\n",
        "partidos_ganados = int(input('Cantidad de partidos ganados: '))\n",
        "partidos_empatados = int(input('Cantidad de partidos empatados: '))\n",
        "partidos_perdidos = int(input('Cantidad de partidos perdidos: '))\n",
        "\n",
        "puntos_finales = partidos_ganados * partidos_ganados_puntaje + partidos_empatados * partidos_empatados_puntaje + partidos_perdidos * partidos_perdidos_puntaje\n",
        "\n",
        "promedio_final = puntos_finales / partidos_jugados\n",
        "\n",
        "print(promedio_final)\n"
      ],
      "metadata": {
        "id": "6UWWgsnIc4bZ",
        "colab": {
          "base_uri": "https://localhost:8080/"
        },
        "outputId": "335b59c9-2fff-4749-b535-9b0ede832ac9"
      },
      "execution_count": null,
      "outputs": [
        {
          "output_type": "stream",
          "name": "stdout",
          "text": [
            "Cantidad de partidos ganados: 10\n",
            "Cantidad de partidos empatados: 5\n",
            "Cantidad de partidos perdidos: 5\n",
            "1.75\n"
          ]
        }
      ]
    },
    {
      "cell_type": "markdown",
      "source": [
        "# Desafío String (10 min)\n",
        "\n",
        "Dadas cuatro variables con diferentes textos (de forma individual), genera una nueva variable con el siguiente contenido:\n",
        "\n",
        "Objetivo: “Python es un lenguaje de programación moderno”\n",
        "\n",
        "Partiendo de:\n",
        "\n",
        "cadena_1  = “moderno”\n",
        "\n",
        "cadena_2  = “Python”\n",
        "\n",
        "cadena_3  = “es un lenguaje”\n",
        "\n",
        "cadena_4  = “de programación”\n"
      ],
      "metadata": {
        "id": "cxz15r_mhcoL"
      }
    },
    {
      "cell_type": "code",
      "source": [
        "cadena_1 = 'moderno'\n",
        "\n",
        "cadena_2 = 'Python'\n",
        "\n",
        "cadena_3 = 'es un lenguaje'\n",
        "\n",
        "cadena_4 = 'de programación'\n",
        "\n",
        "texto = cadena_2 + ' ' + cadena_3 + ' ' + cadena_4 + ' ' + cadena_1\n",
        "\n",
        "print(texto)\n",
        "print(cadena_2, cadena_3, cadena_4, cadena_1)"
      ],
      "metadata": {
        "id": "xVg0lSP5hdER"
      },
      "execution_count": null,
      "outputs": []
    },
    {
      "cell_type": "markdown",
      "source": [
        "\n",
        "# Desafío Slicing (10 min)\n",
        "Se tiene una cadena de texto, pero al revés. Al parecer contiene el nombre de un alumno, la nota de un exámen y la materia. \n",
        "De forma individual, realiza lo siguiente: \n",
        "1. Dar vuelta la cadena y asignarla a una variable llamada cadena_volteada. Para devolver una cadena dada vuelta se usa el tercer índice negativo con slicing: cadena[::-1]. \n",
        "2. Extraer nombre y apellido, almacenarlo en una variable llamada nombre_alumno \n",
        "3. Extraer la nota y almacenarla en una variable llamada nota.\n",
        "4. Extraer la materia y almacenarla en una variable llamada materia. \n",
        "5. Mostrar por pantalla la siguiente estructura: \n",
        "😎NOMBRE APELLIDO ha sacado un NOTA en MATERIA. Esto ultimo hacerlo, formateando las anteriores variables en una variable llamada cadena_formateada\n",
        "\n",
        "cadena = “acitametaM ,5.8 ,otipeP ordeP”"
      ],
      "metadata": {
        "id": "JK2JK581hdbH"
      }
    },
    {
      "cell_type": "code",
      "source": [
        "cadena = 'acitametaM ,5.8 ,otipeP ordeP'\n",
        "cadena_volteada = cadena[::-1]\n",
        "nombre_alumno = cadena_volteada[:12]\n",
        "nota = cadena_volteada[14:17]\n",
        "materia = cadena_volteada[19:]\n",
        "texto = '😎' + nombre_alumno + ' ha sacado un ' + nota + ' en ' + materia\n",
        "print(texto)\n",
        "\n",
        "print(f'😎{nombre_alumno} ha sacado un {nota} en {materia}')\n"
      ],
      "metadata": {
        "id": "rEgyhycNiS_G",
        "colab": {
          "base_uri": "https://localhost:8080/"
        },
        "outputId": "f3e6fca4-4ebe-4422-c115-2265b2fe69f7"
      },
      "execution_count": null,
      "outputs": [
        {
          "output_type": "stream",
          "name": "stdout",
          "text": [
            "😎Pedro Pepito ha sacado un 8.5 en Matematica\n",
            "😎Pedro Pepito ha sacado un 8.5 en Matematica\n"
          ]
        }
      ]
    },
    {
      "cell_type": "markdown",
      "source": [
        "---\n",
        "---\n",
        "# Entregable\n",
        "---\n",
        "---"
      ],
      "metadata": {
        "id": "DtfrqAAph0Ky"
      }
    }
  ]
}