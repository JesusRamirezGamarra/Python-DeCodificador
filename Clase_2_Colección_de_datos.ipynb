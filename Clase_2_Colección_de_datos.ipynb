{
  "nbformat": 4,
  "nbformat_minor": 0,
  "metadata": {
    "colab": {
      "provenance": [],
      "collapsed_sections": [],
      "include_colab_link": true
    },
    "kernelspec": {
      "name": "python3",
      "display_name": "Python 3"
    },
    "language_info": {
      "name": "python"
    }
  },
  "cells": [
    {
      "cell_type": "markdown",
      "metadata": {
        "id": "view-in-github",
        "colab_type": "text"
      },
      "source": [
        "<a href=\"https://colab.research.google.com/github/JesusRamirezGamarra/Python-DeCodificador/blob/main/Clase_2_Colecci%C3%B3n_de_datos.ipynb\" target=\"_parent\"><img src=\"https://colab.research.google.com/assets/colab-badge.svg\" alt=\"Open In Colab\"/></a>"
      ]
    },
    {
      "cell_type": "markdown",
      "source": [
        "# Listas ( heterogeneas )"
      ],
      "metadata": {
        "id": "d2Z9nx9hTkIu"
      }
    },
    {
      "cell_type": "code",
      "source": [
        "edades = 25 34"
      ],
      "metadata": {
        "id": "r699rcjSdJzJ"
      },
      "execution_count": null,
      "outputs": []
    },
    {
      "cell_type": "code",
      "source": [
        "lista1 = [1, 2, 3, 4, 1]\n",
        "edad = 25\n",
        "lista2 = [1, 2, 3,'pepe', 'roque', True, -15, edad]\n",
        "\n",
        "print(lista2)"
      ],
      "metadata": {
        "id": "PUvSFRNd1vIY"
      },
      "execution_count": null,
      "outputs": []
    },
    {
      "cell_type": "markdown",
      "source": [
        "# Listas y Strings"
      ],
      "metadata": {
        "id": "s1BL2OwKToYA"
      }
    },
    {
      "cell_type": "markdown",
      "source": [
        "Index"
      ],
      "metadata": {
        "id": "Y5IALNUGTrtp"
      }
    },
    {
      "cell_type": "code",
      "source": [
        "cadena = 'esta es cadena de prueba'\n",
        "print(cadena[5])\n",
        "\n",
        "lista = [1, 2, 3,'pepe', 'roque']\n",
        "print(lista[3])\n",
        "print(lista[-1])\n",
        "\n",
        "# Estos 2 accesos generan un error\n",
        "# print(cadena[55])\n",
        "# print(lista[55])"
      ],
      "metadata": {
        "id": "-wdgJ6Ci1yYV"
      },
      "execution_count": null,
      "outputs": []
    },
    {
      "cell_type": "markdown",
      "source": [
        "Slicing"
      ],
      "metadata": {
        "id": "uICSCqYjTrrX"
      }
    },
    {
      "cell_type": "code",
      "source": [
        "cadena = 'esta es cadena de prueba'\n",
        "print(cadena)\n",
        "print(cadena[4:8])\n",
        "print(cadena)"
      ],
      "metadata": {
        "id": "qSfjJkUJ6oVO"
      },
      "execution_count": null,
      "outputs": []
    },
    {
      "cell_type": "code",
      "source": [
        "lista = [1, 2, 3,'pepe', 'roque']\n",
        "\n",
        "print(lista)\n",
        "print(lista[2:4])\n",
        "print(lista)\n",
        "\n",
        "# Para poder volver a utilizar el valor en el futuro\n",
        "\n",
        "# segunda_lista = lista[2:4]\n",
        "# print(segunda_lista)\n",
        "# print(lista)\n",
        "\n",
        "# segunda_lista = lista[::2]\n",
        "# print(segunda_lista)\n",
        "# print(lista)"
      ],
      "metadata": {
        "id": "qEyjqTXhkP5e"
      },
      "execution_count": null,
      "outputs": []
    },
    {
      "cell_type": "markdown",
      "source": [
        "concatenación"
      ],
      "metadata": {
        "id": "PckuySG-TwTS"
      }
    },
    {
      "cell_type": "code",
      "source": [
        "cadena = 'esta es cadena de prueba'\n",
        "cadena_concatenada = cadena + ' soy pepe'\n",
        "print(cadena_concatenada)\n",
        "lista1 = [1, 2, 3, 'pepe', 'roque']\n",
        "# lista_concatenada = lista1 + cadena\n",
        "# lista_concatenada = lista1 + [cadena]\n",
        "lista2 = [cadena]\n",
        "print(lista2)\n",
        "lista_concatenada = lista1 + lista2\n",
        "print(lista_concatenada)\n",
        "\n",
        "\n",
        "cadena1 = 'esta es cadena de prueba'\n",
        "cadena2 = ' otro gato'\n",
        "print(cadena1 + cadena2)\n",
        "lista1 = [1, 2, 3,'pepe', 'roque']\n",
        "lista2 = [6,7,8,1]\n",
        "print(lista1 + lista2)\n",
        "print(lista1 + [cadena1])"
      ],
      "metadata": {
        "id": "g9m-g1QK6pmQ"
      },
      "execution_count": null,
      "outputs": []
    },
    {
      "cell_type": "markdown",
      "source": [
        "Inmutabilidad/Mutabilidad"
      ],
      "metadata": {
        "id": "5lK_EwWHUmY8"
      }
    },
    {
      "cell_type": "code",
      "source": [
        "# cadena = 'claro'\n",
        "# # cadena[3] = 's'\n",
        "# cadena = cadena[:3] + 's' + cadena[4:]\n",
        "# print(cadena)\n",
        "lista = ['primero', 'segundo', 'tercero']\n",
        "print(lista)\n",
        "print(lista[1])\n",
        "lista[1] = 'cuarto'\n",
        "print(lista)\n",
        "print(lista[1])"
      ],
      "metadata": {
        "id": "owEYuGMY6qm1"
      },
      "execution_count": null,
      "outputs": []
    },
    {
      "cell_type": "markdown",
      "source": [
        "Asignacion por slicing"
      ],
      "metadata": {
        "id": "Bw6KSnH7UsX3"
      }
    },
    {
      "cell_type": "code",
      "source": [
        "lista = ['primero', 'segundo', 'tercero', 'cuarto', 'quinto']\n",
        "print(lista)\n",
        "print(lista[1:3])\n",
        "\n",
        "# lista[1:3] = [2,3]\n",
        "# print(lista)\n",
        "\n",
        "# lista[1:3] = ['mas datos']\n",
        "# print(lista)\n",
        "\n",
        "# lista[1:3] = ['soy', 'mas', 'de', 'un', 'valor']\n",
        "# print(lista)\n",
        "\n",
        "# lista[1:3] = 'hola'\n",
        "# print(lista)\n",
        "\n",
        "# lista[1:5] = []\n",
        "# print(lista)\n",
        "\n",
        "# lista[1:3] = 'pepe'\n",
        "# # print(list('hola')) # -> ['p', 'e', 'p', 'e']\n",
        "# print(lista)\n",
        "\n",
        "# # lista[1:3] = 4 # genera un error\n",
        "# lista[1:3] = [4]\n",
        "# print(lista)\n"
      ],
      "metadata": {
        "id": "_rjrAagb6rmD"
      },
      "execution_count": null,
      "outputs": []
    },
    {
      "cell_type": "markdown",
      "source": [
        "Borrar valores con slicing o vaciar lista"
      ],
      "metadata": {
        "id": "6_Pgr2Q9U3GH"
      }
    },
    {
      "cell_type": "code",
      "source": [
        "lista = ['primero', 'segundo', 'tercero', 'cuarto', 'quinto']\n",
        "print(lista)\n",
        "# lista[1:2] = []\n",
        "# print(lista)\n",
        "# lista[1:3] = []\n",
        "# print(lista)\n",
        "# lista[::2] = [] # Genera error ya que no les permite la asignación con el salto de valores\n",
        "lista = []\n",
        "print(lista)"
      ],
      "metadata": {
        "id": "-va8Ehdh6sbC"
      },
      "execution_count": null,
      "outputs": []
    },
    {
      "cell_type": "markdown",
      "source": [
        "# Funciones de listas"
      ],
      "metadata": {
        "id": "Vae1Ls-rVC71"
      }
    },
    {
      "cell_type": "markdown",
      "source": [
        "append"
      ],
      "metadata": {
        "id": "8rTwanPPVE8f"
      }
    },
    {
      "cell_type": "code",
      "source": [
        "lista = [1, 2, 3, 'pepe', 'roque']\n",
        "print(lista)\n",
        "# [1, 2, 3, 'pepe', 'roque'].append('otro valor')\n",
        "lista.append('otro valor')\n",
        "print(lista)\n",
        "lista.append(['otro valor', 2])\n",
        "print(lista)"
      ],
      "metadata": {
        "id": "jFgQ501Q11qB"
      },
      "execution_count": null,
      "outputs": []
    },
    {
      "cell_type": "markdown",
      "source": [
        "len"
      ],
      "metadata": {
        "id": "h2X77Tf5VIhW"
      }
    },
    {
      "cell_type": "code",
      "source": [
        "lista = [1, 2, 3, 'pepe', 'roque']\n",
        "print(len(lista))"
      ],
      "metadata": {
        "id": "54r8pC8K2N-E"
      },
      "execution_count": null,
      "outputs": []
    },
    {
      "cell_type": "markdown",
      "source": [
        "pop"
      ],
      "metadata": {
        "id": "5bwACizdVLYq"
      }
    },
    {
      "cell_type": "code",
      "source": [
        "lista = [1, 2, 3, 'pepe', 'roque']\n",
        "valor_extraido = lista.pop()\n",
        "# valor_extraido = lista.pop(3)\n",
        "print(lista)\n",
        "print(valor_extraido)\n",
        "lista.pop()\n",
        "print(lista)"
      ],
      "metadata": {
        "id": "0NYJG9Sk2PeP"
      },
      "execution_count": null,
      "outputs": []
    },
    {
      "cell_type": "markdown",
      "source": [
        "count"
      ],
      "metadata": {
        "id": "OID7oMV8VOv2"
      }
    },
    {
      "cell_type": "code",
      "source": [
        "lista = [1, 2, 3, 'pepe', 2, 'roque', 2]\n",
        "print(lista.count(3))\n",
        "print(lista.count(2))\n",
        "print(lista.count(4))\n",
        "print(lista.count('pepe'))"
      ],
      "metadata": {
        "id": "V3AOXWTp2RJ0"
      },
      "execution_count": null,
      "outputs": []
    },
    {
      "cell_type": "markdown",
      "source": [
        "index ( salteos para buscar, inexistencia )"
      ],
      "metadata": {
        "id": "JHluap_pVO0n"
      }
    },
    {
      "cell_type": "code",
      "source": [
        "lista = ['pepe', 1, 2, 3, 'pepe', 'roque', 'pepe']\n",
        "print(lista.index('pepe'))\n",
        "# print(lista.index('pepe', 1))\n",
        "# print(lista.index('pepe', 5, 6))\n",
        "# print(lista.index('pepe', 7))\n",
        "\n",
        "# print(lista.index('salto')) # genera error al no encontrar el dato que se busca"
      ],
      "metadata": {
        "id": "7Ax_qlIH2SrF"
      },
      "execution_count": null,
      "outputs": []
    },
    {
      "cell_type": "markdown",
      "source": [
        "Ejercicio de listas (10 min)\n",
        "\n",
        "Dadas dos listas LISTA1 y LISTA2 debes realizar las siguientes tareas:\n",
        "- Añade a la LISTA1 el int 1234 y luego el string “Hola”\n",
        "- Añade a la LISTA2 el string “Adios” y luego el int 1234\n",
        "- Genera una LISTA3 con todos los elementos de la LISTA1 menos el último\n",
        "- Genera una LISTA4 con todos los elementos de la LISTA2 menos el primero y el último\n",
        "- Genera una LISTA5 con los elementos de la LISTA4 y de la LISTA3\n",
        "\n",
        "lista1 = [1, 12, 123]\n",
        "\n",
        "lista2 = [\"Bye\", \"Ciao\", \"Agur\", \"Adieu\"]"
      ],
      "metadata": {
        "id": "vffG4M-pasfJ"
      }
    },
    {
      "cell_type": "code",
      "source": [],
      "metadata": {
        "id": "mbDfgzAkBe5Y"
      },
      "execution_count": null,
      "outputs": []
    },
    {
      "cell_type": "markdown",
      "source": [
        "# Break"
      ],
      "metadata": {
        "id": "wuOV2D1P2ftp"
      }
    },
    {
      "cell_type": "markdown",
      "source": [
        "# Tuplas ( heterogeneas )"
      ],
      "metadata": {
        "id": "z814xLkJVg9C"
      }
    },
    {
      "cell_type": "code",
      "source": [
        "lista = [1,2,3,'pepe','gato']\n",
        "tupla = (1,2,3,'pepe','gato')"
      ],
      "metadata": {
        "id": "v3B0pOkcuFfC"
      },
      "execution_count": null,
      "outputs": []
    },
    {
      "cell_type": "code",
      "source": [
        "lista = [2]\n",
        "tupla = ('2')\n",
        "# tupla = ('pepe',)\n",
        "# tupla = (2,)\n",
        "# tupla = 2,\n",
        "# tupla = 2, 3, 4, 5\n",
        "print(tupla)\n",
        "print(type(lista))\n",
        "print(type(tupla))"
      ],
      "metadata": {
        "id": "CvrI0WaB2ilT"
      },
      "execution_count": null,
      "outputs": []
    },
    {
      "cell_type": "markdown",
      "source": [
        "Inmutabilidad"
      ],
      "metadata": {
        "id": "Ll3Uc5yaW9wK"
      }
    },
    {
      "cell_type": "code",
      "source": [
        "lista = [1,2,3,'pepe','gato']\n",
        "lista[1] = 'otro valor'\n",
        "print(lista)\n",
        "\n",
        "tupla = (1,2,3,'pepe','gato')\n",
        "tupla[1] = 'otro valor'\n",
        "print(tupla)"
      ],
      "metadata": {
        "id": "FyZwjSYj83-s"
      },
      "execution_count": null,
      "outputs": []
    },
    {
      "cell_type": "markdown",
      "source": [
        "Vaciar"
      ],
      "metadata": {
        "id": "LD-tX-2pXDH4"
      }
    },
    {
      "cell_type": "code",
      "source": [
        "tupla = (1,2,3,'pepe','gato')\n",
        "print(tupla)\n",
        "print(type(tupla))\n",
        "tupla = ()\n",
        "print(type(tupla))\n",
        "tupla = tuple()\n",
        "print(type(tupla))"
      ],
      "metadata": {
        "id": "uoS6SELV86rw"
      },
      "execution_count": null,
      "outputs": []
    },
    {
      "cell_type": "markdown",
      "source": [
        "Index y slicing"
      ],
      "metadata": {
        "id": "jFbLHEbjXNYB"
      }
    },
    {
      "cell_type": "code",
      "source": [
        "tupla = (1,2,3,'pepe','gato')\n",
        "print(tupla[2])\n",
        "print(tupla[1:])\n",
        "print(tupla[::2])"
      ],
      "metadata": {
        "id": "sSYGuBQ-8noo"
      },
      "execution_count": null,
      "outputs": []
    },
    {
      "cell_type": "markdown",
      "source": [
        "Concatenación"
      ],
      "metadata": {
        "id": "DAHCVH3lXarA"
      }
    },
    {
      "cell_type": "code",
      "source": [
        "tupla1 = (1,2,3)\n",
        "tupla2 = ('pepe','gato')\n",
        "tupla3 = tupla1 + tupla2\n",
        "print(tupla3)\n",
        "# tupla1 = tupla1 + tupla2\n",
        "# print(tupla1)"
      ],
      "metadata": {
        "id": "zbJva5zZ8zC2"
      },
      "execution_count": null,
      "outputs": []
    },
    {
      "cell_type": "markdown",
      "source": [
        "# Funciones de tuplas"
      ],
      "metadata": {
        "id": "vYzPpMdBXfQL"
      }
    },
    {
      "cell_type": "markdown",
      "source": [
        "len"
      ],
      "metadata": {
        "id": "Wn52iwxjXfVb"
      }
    },
    {
      "cell_type": "code",
      "source": [
        "tupla34 = (1,2,3,'pepe','gato')\n",
        "print(len(tupla34))"
      ],
      "metadata": {
        "id": "khrCAdSl2j9J"
      },
      "execution_count": null,
      "outputs": []
    },
    {
      "cell_type": "markdown",
      "source": [
        "count"
      ],
      "metadata": {
        "id": "aOE9wTGeXmWC"
      }
    },
    {
      "cell_type": "code",
      "source": [
        "tupla = (1,'pepe', 2,3,'pepe','gato','pepe')\n",
        "print(tupla.count('pepe'))\n",
        "print((1,'pepe', 2,3,'pepe','gato','pepe').count('pepe'))"
      ],
      "metadata": {
        "id": "uoPzlnkW2oHm"
      },
      "execution_count": null,
      "outputs": []
    },
    {
      "cell_type": "markdown",
      "source": [
        "index ( salteos para buscar, inexistencia )"
      ],
      "metadata": {
        "id": "EY-f6fkHXpZC"
      }
    },
    {
      "cell_type": "code",
      "source": [
        "tupla = ('pepe', 1, 2, 3, 'pepe', 'roque', 'pepe')\n",
        "print(tupla.index('pepe'))\n",
        "print(tupla.index('pepe', 1))\n",
        "# print(tupla.index('pepe', 5, 6))\n",
        "# print(tupla.index('pepe', 7))\n",
        "\n",
        "# print(tupla.index('salto')) # genera error al no encontrar el dato que se busca"
      ],
      "metadata": {
        "id": "YwiMoIVy2pNv"
      },
      "execution_count": null,
      "outputs": []
    },
    {
      "cell_type": "markdown",
      "source": [
        "Casting"
      ],
      "metadata": {
        "id": "IcDpOVzSXsEd"
      }
    },
    {
      "cell_type": "code",
      "source": [
        "tupla = ('pepe', 1, 2, 3, 'pepe', 'roque', 'pepe')\n",
        "print(tupla)\n",
        "lista_desde_tupla = list(tupla)\n",
        "print(lista_desde_tupla)\n",
        "\n",
        "tupla_desde_lista = tuple(lista_desde_tupla)\n",
        "print(tupla_desde_lista)"
      ],
      "metadata": {
        "id": "DJ_kdC2X2wXb"
      },
      "execution_count": null,
      "outputs": []
    },
    {
      "cell_type": "markdown",
      "source": [
        "Anidación ( acceso )"
      ],
      "metadata": {
        "id": "zGB9G3-gXv3z"
      }
    },
    {
      "cell_type": "markdown",
      "source": [
        " lista = [1,2,3,'pepe','gato', ['lista', 'interna'], ('tupla', 'tupla2')]\n",
        "\n",
        " lista[-1][1] -> 'tupla2'\n",
        "\n",
        " [1,2,3,'pepe','gato', ['lista', 'interna'], ('tupla', 'tupla2')][-1][1]\n",
        " \n",
        " ('tupla', 'tupla2')[1]\n",
        " \n",
        " 'tupla2'"
      ],
      "metadata": {
        "id": "NRy0smDm0BBN"
      }
    },
    {
      "cell_type": "code",
      "source": [
        "lista = [1,2,3,'pepe','gato', ['lista', 'interna'], ('tupla', 'tupla2')]\n",
        "print(lista)\n",
        "print(lista[2])\n",
        "print(lista[-1])\n",
        "# print(lista[-1][1])\n",
        "# print(len(lista[-1]))\n",
        "# lista[-2][1] = 'otra lista'\n",
        "# lista[-1][1] = 'otra lista' # Genera error\n",
        "# print(lista)\n",
        "# print(lista[-1])\n",
        "\n",
        "# print(tuple(lista))\n",
        "\n",
        "tupla = (1,2,3,'pepe','gato', ['lista', 'interna'], ('tupla', 'tupla2'))\n",
        "print(tupla)\n",
        "print(tupla[2])\n",
        "print(tupla[-1])\n",
        "# print(tupla[-1][1])\n",
        "# print(len(tupla[-1]))\n",
        "# tupla[-2][1] = 'otra lista'\n",
        "# print(tupla)\n"
      ],
      "metadata": {
        "id": "YIKAcObZ2sMG"
      },
      "execution_count": null,
      "outputs": []
    },
    {
      "cell_type": "markdown",
      "source": [
        "Ejercicio 2 (10 min)\n",
        "\n",
        "A partir de una variable llamada tupla debes \n",
        "imprimir por pantalla de forma ordenada, lo siguiente:\n",
        "- El último ítem de tupla\n",
        "- El número de ítems de tupla\n",
        "- La posición donde se encuentra el ítem 87 de tupla\n",
        "- Una lista con los últimos tres ítems de tupla\n",
        "- Un ítem que haya en la posición 8 de tupla\n",
        "- El número de veces que el ítem 7 aparece en tupla\n",
        "\n",
        "Copia esta tupla:\n",
        "\n",
        "tupla = (5, 12, 7, 37, 8, 86, 19, 7, -783, 87, 188, 7, 9, 12, 7, 3982)"
      ],
      "metadata": {
        "id": "OGX9y7A-agKc"
      }
    },
    {
      "cell_type": "code",
      "source": [],
      "metadata": {
        "id": "N2NTyJWvAolN"
      },
      "execution_count": null,
      "outputs": []
    }
  ]
}