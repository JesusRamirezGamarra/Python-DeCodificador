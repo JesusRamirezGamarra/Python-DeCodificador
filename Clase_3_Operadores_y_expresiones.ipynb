{
  "nbformat": 4,
  "nbformat_minor": 0,
  "metadata": {
    "colab": {
      "provenance": [],
      "collapsed_sections": [],
      "include_colab_link": true
    },
    "kernelspec": {
      "name": "python3",
      "display_name": "Python 3"
    },
    "language_info": {
      "name": "python"
    }
  },
  "cells": [
    {
      "cell_type": "markdown",
      "metadata": {
        "id": "view-in-github",
        "colab_type": "text"
      },
      "source": [
        "<a href=\"https://colab.research.google.com/github/JesusRamirezGamarra/Python-DeCodificador/blob/main/Clase_3_Operadores_y_expresiones.ipynb\" target=\"_parent\"><img src=\"https://colab.research.google.com/assets/colab-badge.svg\" alt=\"Open In Colab\"/></a>"
      ]
    },
    {
      "cell_type": "markdown",
      "source": [
        "# Operaciones \n",
        "\n",
        "Operando [operador] Operando\n",
        "\n",
        "## Operadores y Expresiones\n",
        "\n",
        "2 + 2 \n",
        "\n",
        "2 - 2\n",
        "\n",
        "2 * 2\n",
        "\n",
        "2 / 2\n",
        "\n",
        "2 // 2\n",
        "\n",
        "2 % 2\n",
        "\n",
        "2 ** 2\n",
        "\n",
        "## EL TIPO LÓGICO\n",
        "### Booleano/Binario\n",
        "True => Verdadero\n",
        "\n",
        "False => Falso\n",
        "\n",
        "## OPERADORES RELACIONALES\n",
        "### Igualdad/Desigualdad/Menor-Mayor que\n"
      ],
      "metadata": {
        "id": "aWMIOq62rIVB"
      }
    },
    {
      "cell_type": "code",
      "source": [
        "# 2 + 2 = 4\n",
        "suma = 2 + 2\n",
        "\n",
        "# print(2 < 2)\n",
        "# print(2 > 2)\n",
        "# print(2 > 4)\n",
        "# print(2 < 4)\n",
        "# print(2 <= 2)\n",
        "# print(2 >= 2)\n",
        "# print(2 <= 5)\n",
        "# print(2 >= 1)\n",
        "# print(1 == 1)\n",
        "# print(1 != 1)\n",
        "# print(suma == 4)\n",
        "# print(suma == 15)\n",
        "# print(suma != 4)\n",
        "# print(suma != 15)\n",
        "\n",
        "otro_numero = 10\n",
        "\n",
        "# print(suma < otro_numero)\n",
        "# print(otro_numero > 50)\n",
        "# print(suma <= 5)\n",
        "# print(suma <= 4)\n",
        "# print(suma < 4)\n",
        "# print(otro_numero >= 10)\n",
        "# print(otro_numero > 10)\n",
        "# print(otro_numero >= 5)\n"
      ],
      "metadata": {
        "id": "yl1UQz-0OkKf"
      },
      "execution_count": null,
      "outputs": []
    },
    {
      "cell_type": "markdown",
      "source": [
        "## ¿Operadores en Strings? \n",
        "\n",
        "https://elcodigoascii.com.ar/"
      ],
      "metadata": {
        "id": "MWLBEw_pr2Eb"
      }
    },
    {
      "cell_type": "code",
      "source": [
        "# print('a' == 'a')\n",
        "# print('a' == 'A')\n",
        "# print('a' != 'A')\n",
        "# print('a' < 'A')\n",
        "# print('a' < 'Z')\n",
        "# print('ahorrar' < 'aHorrar')\n",
        "# print('ah' > 'ahorrar')\n",
        "# print('ah' < 'aHorrar')\n",
        "# print('ah' < 'ahorraR')\n",
        "# print('a' >= 'ahorrar')\n",
        "# 'a' == 'b'\n",
        "# 'a' < 'b'\n",
        "# string1 = 'ricardo como ta va? soy pancho'\n",
        "# palabra2 = 'hola'\n",
        "# print(string1 == 'hola')\n",
        "# print(string1 == palabra2)\n",
        "# print(string1[0] == 'r')\n",
        "# print(string1[:2] == 'r')\n",
        "# print(string1[:2] == 'ri')"
      ],
      "metadata": {
        "id": "R3GzR4VdOrsF"
      },
      "execution_count": null,
      "outputs": []
    },
    {
      "cell_type": "markdown",
      "source": [
        "## Operadores usando tipos logicos\n"
      ],
      "metadata": {
        "id": "D5lOU4n1r84M"
      }
    },
    {
      "cell_type": "code",
      "source": [
        "# print(True)\n",
        "# print(False)\n",
        "# print(True == False)\n",
        "# print(True == True)\n",
        "# print(True == 1)\n",
        "# print(False == 0)\n",
        "# print(False * 55)\n",
        "# print(True * 55)\n",
        "# print(True + 55)\n",
        "# print(True + 0.5)\n",
        "# print(False == 0.5)\n",
        "\n",
        "\n",
        "# True == 1\n",
        "# False == 0\n",
        "\n",
        "# True < False\n",
        "# 1 < 0\n",
        "\n",
        "\n",
        "# print(True == 55)\n",
        "# print('55' == 55)\n",
        "# print('a' == 97)"
      ],
      "metadata": {
        "id": "bZ8QT6rfOuUi"
      },
      "execution_count": null,
      "outputs": []
    },
    {
      "cell_type": "markdown",
      "source": [
        "## Ejercicio 1 (10min)"
      ],
      "metadata": {
        "id": "SK1ifJu0sAiR"
      }
    },
    {
      "cell_type": "code",
      "source": [
        "expresiones = [\n",
        "    False == True,\n",
        "    10 >= 2*4,\n",
        "    33/3 == 11,\n",
        "    True > False,\n",
        "    True*5 == 2.5*2\n",
        "]\n",
        "print(expresiones)"
      ],
      "metadata": {
        "id": "oZRwJWz7Oxi_"
      },
      "execution_count": null,
      "outputs": []
    },
    {
      "cell_type": "markdown",
      "source": [
        "## OPERADORES LÓGICOS\n",
        "### not\n",
        "\n"
      ],
      "metadata": {
        "id": "0G4YX5prsFbV"
      }
    },
    {
      "cell_type": "code",
      "source": [
        "# print(True)\n",
        "# print(False)\n",
        "# print(not True)\n",
        "# print(not False)\n",
        "# print(not 4)\n",
        "# print(not -4)\n",
        "# print(not 0.5)\n",
        "# print(not 0)\n",
        "\n",
        "# 4 => True\n",
        "# True => 1\n",
        "\n",
        "# int('2') => 2\n",
        "# bool(2) => True\n",
        "\n",
        "\n",
        "# print(bool(-4))\n",
        "# print(bool(0))\n",
        "# print(bool(''))\n",
        "# print(bool('123asd'))\n",
        "# print(not '123asd')\n",
        "# print(bool([]))\n",
        "# print(bool([2, 3, 54, 'pepe', 'ricardo']))"
      ],
      "metadata": {
        "id": "bsEanjJ3OzZ7"
      },
      "execution_count": null,
      "outputs": []
    },
    {
      "cell_type": "markdown",
      "source": [
        "### and\n"
      ],
      "metadata": {
        "id": "5o7dfe70sIqf"
      }
    },
    {
      "cell_type": "code",
      "source": [
        "print(55 == 60 and 1.5 == 1.4) # False\n",
        "print(55 == 60 and 1.5 == 1.5) # False\n",
        "print(60 == 60 and 1.5 == 1.4) # False\n",
        "print(60 == 60 and 1.5 == 1.5) # True"
      ],
      "metadata": {
        "id": "uorBf15YO1Fa"
      },
      "execution_count": null,
      "outputs": []
    },
    {
      "cell_type": "code",
      "source": [
        "# True and 4/0\n",
        "# False and 4/0\n",
        "# 4/0 and False"
      ],
      "metadata": {
        "id": "yKOtwI9CAqZH"
      },
      "execution_count": null,
      "outputs": []
    },
    {
      "cell_type": "markdown",
      "source": [
        "### or\n"
      ],
      "metadata": {
        "id": "uWYkBSbjsMIg"
      }
    },
    {
      "cell_type": "code",
      "source": [
        "print(55 == 60 or 1.5 == 1.5) # True\n",
        "print(60 == 60 or 1.5 == 1.5) # True\n",
        "print(60 == 60 or 1.5 == 1.4) # True\n",
        "print(55 == 60 or 1.5 == 1.4) # False"
      ],
      "metadata": {
        "id": "qnMWcR5pO18z"
      },
      "execution_count": null,
      "outputs": []
    },
    {
      "cell_type": "code",
      "source": [
        "# False or 4/0\n",
        "# True or 4/0\n",
        "4/0 or True"
      ],
      "metadata": {
        "id": "EtB6zxp7AhHW"
      },
      "execution_count": null,
      "outputs": []
    },
    {
      "cell_type": "markdown",
      "source": [
        "## Tablita"
      ],
      "metadata": {
        "id": "zgiPkccRsPpC"
      }
    },
    {
      "cell_type": "code",
      "source": [
        "# True or True    ----> True     | True and True    ----> True\n",
        "# False or True   ----> True     | False and True   ----> False\n",
        "# True or False   ----> True     | True and False   ----> False\n",
        "# False or False  ----> False    | False and False  ----> False"
      ],
      "metadata": {
        "id": "89xGytywO3pq"
      },
      "execution_count": null,
      "outputs": []
    },
    {
      "cell_type": "markdown",
      "source": [
        "## Ejercicio 2 (10min)"
      ],
      "metadata": {
        "id": "uAt2VNhusTNs"
      }
    },
    {
      "cell_type": "code",
      "source": [
        "expresiones = [\n",
        "    not False,\n",
        "    not 3 == 5,\n",
        "    33/3 == 11 and 5 > 2,\n",
        "    True or False,\n",
        "    True*5 == 2.5*2 or 123 >= 23,\n",
        "    12 > 7 and True < False\n",
        "]\n",
        "print(expresiones)"
      ],
      "metadata": {
        "id": "cIGtCACVO4on",
        "colab": {
          "base_uri": "https://localhost:8080/"
        },
        "outputId": "da3d3778-23db-4473-f387-a7ae4d1960e1"
      },
      "execution_count": null,
      "outputs": [
        {
          "output_type": "stream",
          "name": "stdout",
          "text": [
            "[True, True, True, True, True, False]\n"
          ]
        }
      ]
    },
    {
      "cell_type": "markdown",
      "source": [
        "### Y porque pasa eso con el not?\n",
        "\n",
        "not 3 == 5"
      ],
      "metadata": {
        "id": "sKWhALMhsdEN"
      }
    },
    {
      "cell_type": "code",
      "source": [
        "# 3 == 0 # False\n",
        "\n",
        "# not 3 # False\n",
        "\n",
        "# not 3 == 0 # True"
      ],
      "metadata": {
        "id": "GzzeegzrAbH6"
      },
      "execution_count": null,
      "outputs": []
    },
    {
      "cell_type": "code",
      "source": [
        "# 3 == 1 # False\n",
        "\n",
        "# not 3 # False\n",
        "\n",
        "# not 3 == 1 # True\n",
        "\n",
        "# not 3 == 1\n",
        "# False == 1 # False\n",
        "# not (3 == 1)"
      ],
      "metadata": {
        "id": "yzDx2gA3B4tO"
      },
      "execution_count": null,
      "outputs": []
    },
    {
      "cell_type": "markdown",
      "source": [
        "# Break"
      ],
      "metadata": {
        "id": "WzEqn_bgsnHA"
      }
    },
    {
      "cell_type": "markdown",
      "source": [
        "## EXPRESIONES ANIDADAS\n",
        "\n",
        "\n",
        "1. Expresiones de cualquier tipo entre paréntesis.\n",
        "2. Expresiones aritméticas por su propias reglas.\n",
        "```\n",
        "() -> ** -> / // * %  -> + -\n",
        "primero -> segundo -> tercero -> cuarto\n",
        "```\n",
        "3. Expresiones relacionales de izquierda a derecha.\n",
        "4. Operadores lógicos (not tiene prioridad ya que afecta al operando).\n",
        "\n"
      ],
      "metadata": {
        "id": "B4bIeiXvsrK6"
      }
    },
    {
      "cell_type": "code",
      "source": [
        "a = 15\n",
        "b = 12\n",
        "a ** b / 3**a / a * b >= 15 and not (a%b**2) != 0"
      ],
      "metadata": {
        "id": "hGWYR-tBO7A0"
      },
      "execution_count": null,
      "outputs": []
    },
    {
      "cell_type": "markdown",
      "source": [
        "### Paso a paso\n",
        "\n",
        "```\n",
        "a = 15\n",
        "b = 12\n",
        "a ** b / 3**a / a * b >= 15 and not (a%b**2) != 0\n",
        "```\n",
        "\n",
        "1) b**2 => 144\n",
        "```\n",
        "a ** b / 3**a / a * b >= 15 and not (a%144) != 0\n",
        "```\n",
        "2) a%144 => 15\n",
        "```\n",
        "a**b / 3**a / a * b >= 15 and not 15 != 0\n",
        "```\n",
        "3) a**b => 129746337890625\n",
        "```\n",
        "129746337890625 / 3**a / a * b >= 15 and not 15 != 0\n",
        "```\n",
        "4) 3**a => 14348907\n",
        "```\n",
        "129746337890625 / 14348907 / a * b >= 15 and not 15 != 0\n",
        "```\n",
        "5) 129746337890625 / 14348907 => 9042245.370370371\n",
        "```\n",
        "9042245.370370371 / a * b >= 15 and not 15 != 0\n",
        "```\n",
        "5) 9042245.370370371 / a => 602816.3580246915\n",
        "```\n",
        "602816.3580246915 * b >= 15 and not 15 != 0\n",
        "```\n",
        "6) 602816.3580246915 * b => 7233796.296296298\n",
        "```\n",
        "7233796.296296298 >= 15 and not 15 != 0\n",
        "```\n",
        "7) 7233796.296296298 >= 15 => True\n",
        "```\n",
        "True and not 15 != 0\n",
        "```\n",
        "7) 15 != 0 => True\n",
        "```\n",
        "True and not True\n",
        "```\n",
        "8) not True => False\n",
        "```\n",
        "True and False\n",
        "```\n",
        "False"
      ],
      "metadata": {
        "id": "debYujWchbzX"
      }
    },
    {
      "cell_type": "markdown",
      "source": [
        "## Ejercicio 3 (10min)\n",
        "\n",
        "A partir de dos variables llamadas NOMBRE y EDAD, debes crear una variable que almacene si se cumplen TODAS las siguientes condiciones, encadenando operadores lógicos en una sola línea:\n",
        "1. NOMBRE sea diferente de cuatro asteriscos y\n",
        "2. EDAD sea mayor que 10 y a su vez menor que 18 y  \n",
        "3. Que la longitud de NOMBRE sea mayor o igual a 3 pero a la vez menor que 10 y\n",
        "4. EDAD multiplicada por 4 sea mayor que 40"
      ],
      "metadata": {
        "id": "RXHwTRNJtpSr"
      }
    },
    {
      "cell_type": "code",
      "source": [
        "# nombre = 'pepe' # input()\n",
        "# edad = 24 # (input)\n",
        "# print(1 > 2 and len('pepe') == 5 or)"
      ],
      "metadata": {
        "id": "Pbx3oEnOtyzC"
      },
      "execution_count": null,
      "outputs": []
    },
    {
      "cell_type": "markdown",
      "source": [
        "## OPERADORES DE ASIGNACIÓN\n"
      ],
      "metadata": {
        "id": "eQWgsie6tVyX"
      }
    },
    {
      "cell_type": "code",
      "source": [
        "# =\n",
        "var1 = 57\n",
        "cadena = 'pepe'\n",
        "print(var1)\n",
        "print(cadena)\n",
        "\n",
        "# +=\n",
        "var1 += 2 # var1 = var1 + 2\n",
        "print(var1)\n",
        "cadena += '2' # cadena = cadena + '2'\n",
        "print(cadena)\n",
        "\n",
        "# # -=\n",
        "var1 -= 2 # var1 = var1 - 2\n",
        "print(var1)\n",
        "\n",
        "# # *=\n",
        "var1 *= 2 # var1 = var1 * 2\n",
        "print(var1)\n",
        "cadena *= 2\n",
        "print(cadena)\n",
        " \n",
        "# # /=\n",
        "var1 /= 2 # var1 = var1 / 2\n",
        "print(var1)\n",
        "\n",
        "# //=\n",
        "var1 //= 2 # var1 = var1 / 2\n",
        "# ( lo esta tomando como division flotante, porque probablemente la version de \n",
        "# python de colab no lo tenga contemplado todavia a este operador de asignacion )\n",
        "print(var1)\n",
        "\n",
        "# # %=\n",
        "var1 %= 5 # var1 = var1 % 2\n",
        "print(var1)\n",
        "\n",
        "# # **=\n",
        "var1 **= 2 # var1 = var1 ** 2\n",
        "print(var1)\n",
        "\n",
        "\n",
        "# contador = 5\n",
        "# contador += 1\n",
        "# contador"
      ],
      "metadata": {
        "id": "gZQyWLO-O99r",
        "colab": {
          "base_uri": "https://localhost:8080/"
        },
        "outputId": "732a89de-bc71-451d-eabc-a5698b7f3d92"
      },
      "execution_count": null,
      "outputs": [
        {
          "output_type": "stream",
          "name": "stdout",
          "text": [
            "57\n",
            "pepe\n",
            "59\n",
            "pepe2\n",
            "57\n",
            "114\n",
            "pepe2pepe2\n",
            "57.0\n",
            "28.0\n",
            "3.0\n",
            "9.0\n"
          ]
        }
      ]
    }
  ]
}