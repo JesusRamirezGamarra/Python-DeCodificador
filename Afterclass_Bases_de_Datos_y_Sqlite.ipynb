{
  "nbformat": 4,
  "nbformat_minor": 0,
  "metadata": {
    "colab": {
      "provenance": [],
      "collapsed_sections": [],
      "toc_visible": true,
      "include_colab_link": true
    },
    "kernelspec": {
      "name": "python3",
      "display_name": "Python 3"
    },
    "language_info": {
      "name": "python"
    }
  },
  "cells": [
    {
      "cell_type": "markdown",
      "metadata": {
        "id": "view-in-github",
        "colab_type": "text"
      },
      "source": [
        "<a href=\"https://colab.research.google.com/github/JesusRamirezGamarra/Python-DeCodificador/blob/main/Afterclass_Bases_de_Datos_y_Sqlite.ipynb\" target=\"_parent\"><img src=\"https://colab.research.google.com/assets/colab-badge.svg\" alt=\"Open In Colab\"/></a>"
      ]
    },
    {
      "cell_type": "markdown",
      "source": [
        "# Conexión a la base de datos"
      ],
      "metadata": {
        "id": "yLuoG77ecxrr"
      }
    },
    {
      "cell_type": "code",
      "execution_count": null,
      "metadata": {
        "id": "gQBskJ83cSmV"
      },
      "outputs": [],
      "source": [
        "import sqlite3\n",
        "\n",
        "conexion = sqlite3.connect('base.db')\n",
        "cursor = conexion.cursor()\n",
        "\n",
        "\n",
        "cursor.execute(\"PRAGMA foreign_keys = ON\")  # Activación de claves foráneas para Sqlite\n",
        "conexion.commit()  # Guarda cambios"
      ]
    },
    {
      "cell_type": "markdown",
      "source": [
        "# Creación de tablas"
      ],
      "metadata": {
        "id": "KsTWUqe5dT5o"
      }
    },
    {
      "cell_type": "markdown",
      "source": [
        "### Pais"
      ],
      "metadata": {
        "id": "RvdcDmuWdWGm"
      }
    },
    {
      "cell_type": "code",
      "source": [
        "cursor.execute(\"\"\"\n",
        "    CREATE TABLE Pais (\n",
        "        id INTEGER PRIMARY KEY AUTOINCREMENT,\n",
        "        nombre TEXT NOT NULL UNIQUE\n",
        "    )\n",
        "\"\"\")\n",
        "\n",
        "print(\"Tabla creada\")"
      ],
      "metadata": {
        "id": "wEkkW-o3dQGR"
      },
      "execution_count": null,
      "outputs": []
    },
    {
      "cell_type": "markdown",
      "source": [
        "### Producto"
      ],
      "metadata": {
        "id": "iMEpPw4xdvDj"
      }
    },
    {
      "cell_type": "code",
      "source": [
        "cursor.execute(\"\"\"\n",
        "    CREATE TABLE Producto (\n",
        "        id INTEGER PRIMARY KEY AUTOINCREMENT,\n",
        "        nombre TEXT NOT NULL UNIQUE\n",
        "    )\n",
        "\"\"\")\n",
        "\n",
        "print(\"Tabla creada\")"
      ],
      "metadata": {
        "id": "RZvBLyYgdx7X"
      },
      "execution_count": null,
      "outputs": []
    },
    {
      "cell_type": "markdown",
      "source": [
        "### Cliente"
      ],
      "metadata": {
        "id": "Z3o-6k6NeBlx"
      }
    },
    {
      "cell_type": "code",
      "source": [
        "cursor.execute(\"\"\"\n",
        "    CREATE TABLE Cliente (\n",
        "        id INTEGER PRIMARY KEY AUTOINCREMENT,\n",
        "        nombre TEXT NOT NULL,\n",
        "        apellido TEXT NOT NULL,\n",
        "        nacimiento TEXT,\n",
        "        pais_origen_id REFERENCES Pais(id) ON DELETE SET NULL\n",
        "        )\n",
        "\"\"\")\n",
        "\n",
        "print(\"Tabla creada\")"
      ],
      "metadata": {
        "id": "2Cp7gc2beLRm"
      },
      "execution_count": null,
      "outputs": []
    },
    {
      "cell_type": "markdown",
      "source": [
        "### Cliente_Producto"
      ],
      "metadata": {
        "id": "UbqXRKQ4eWrT"
      }
    },
    {
      "cell_type": "code",
      "source": [
        "cursor.execute(\"\"\"\n",
        "    CREATE TABLE Cliente_Producto (\n",
        "        id INTEGER PRIMARY KEY AUTOINCREMENT,\n",
        "        cliente_id REFERENCES Cliente(id) ON DELETE CASCADE,\n",
        "        producto_id REFERENCES Producto(id) ON DELETE CASCADE\n",
        "        )\n",
        "\"\"\")\n",
        "\n",
        "print(\"Tabla creada\")"
      ],
      "metadata": {
        "id": "RobvmCxseaJT"
      },
      "execution_count": null,
      "outputs": []
    },
    {
      "cell_type": "markdown",
      "source": [
        "# Creación de registros"
      ],
      "metadata": {
        "id": "lnXIrhISfbl7"
      }
    },
    {
      "cell_type": "markdown",
      "source": [
        "### Paises"
      ],
      "metadata": {
        "id": "oELCFbVQgr-j"
      }
    },
    {
      "cell_type": "code",
      "source": [
        "cursor.execute(\"INSERT INTO Pais (nombre) VALUES (?)\", (\"Argentina\",))\n",
        "conexion.commit()\n",
        "\n",
        "print(\"Paises creados\")"
      ],
      "metadata": {
        "id": "hwcj9S8IfEFz"
      },
      "execution_count": null,
      "outputs": []
    },
    {
      "cell_type": "code",
      "source": [
        "# Dará un error por la restricción UNIQUE cuando se creó la tabla País.\n",
        "\n",
        "cursor.execute(\"INSERT INTO Pais (nombre) VALUES (?)\", (\"Argentina\",))\n",
        "conexion.commit()\n",
        "\n",
        "print(\"Paises creados\")"
      ],
      "metadata": {
        "id": "UZkCotwtZBrY"
      },
      "execution_count": null,
      "outputs": []
    },
    {
      "cell_type": "code",
      "source": [
        "paises = [\"Brasil\", \"Chile\", \"México\", \"Ecuador\", \"Colombia\", \"Uruguay\"]\n",
        "\n",
        "for pais in paises:\n",
        "    cursor.execute(\"INSERT INTO Pais (nombre) VALUES (?)\", (pais,))\n",
        "conexion.commit()\n",
        "\n",
        "print(\"Paises creados\")"
      ],
      "metadata": {
        "id": "BeWivhMpgKo9"
      },
      "execution_count": null,
      "outputs": []
    },
    {
      "cell_type": "code",
      "source": [
        "cursor.execute(\"SELECT * FROM Pais\")\n",
        "print(cursor.fetchall())"
      ],
      "metadata": {
        "id": "1j4jKTL5gjOx"
      },
      "execution_count": null,
      "outputs": []
    },
    {
      "cell_type": "code",
      "source": [
        "cursor.execute(\"SELECT * FROM Pais\")\n",
        "print(cursor.fetchone())"
      ],
      "metadata": {
        "id": "ugJQ19nWg4Ej"
      },
      "execution_count": null,
      "outputs": []
    },
    {
      "cell_type": "code",
      "source": [
        "cursor.execute(\"SELECT nombre, id FROM Pais\")\n",
        "print(cursor.fetchmany(3))"
      ],
      "metadata": {
        "id": "i3LdPV2vg-_U"
      },
      "execution_count": null,
      "outputs": []
    },
    {
      "cell_type": "markdown",
      "source": [
        "### Productos"
      ],
      "metadata": {
        "id": "koYYo2wUhMQN"
      }
    },
    {
      "cell_type": "code",
      "source": [
        "productos = [(\"azúcar\",), (\"leche\",), (\"queso\",)]\n",
        "\n",
        "sql = \"INSERT INTO Producto (nombre) VALUES (?)\"\n",
        "cursor.executemany(sql, productos)\n",
        "print(\"Productos creados\")"
      ],
      "metadata": {
        "id": "9lZk-VX_hO8s"
      },
      "execution_count": null,
      "outputs": []
    },
    {
      "cell_type": "code",
      "source": [
        "cursor.execute(\"SELECT * FROM Producto\")\n",
        "items = cursor.fetchall()\n",
        "for id, producto in items:\n",
        "    print(id, producto)"
      ],
      "metadata": {
        "id": "EFAp3E17gNrc"
      },
      "execution_count": null,
      "outputs": []
    },
    {
      "cell_type": "markdown",
      "source": [
        "### Cliente"
      ],
      "metadata": {
        "id": "1yBqUWHEuOf7"
      }
    },
    {
      "cell_type": "code",
      "source": [
        "print(\"CREANDO CLIENTE\")\n",
        "\n",
        "nombre = input(\"Nombre: \")\n",
        "if not nombre:\n",
        "    nombre = None\n",
        "apellido = input(\"Apellido: \")\n",
        "if not apellido:\n",
        "    apellido = None\n",
        "nacimiento = input(\"Fecha de nacimiento (aaaa-mm-dd): \")\n",
        "\n",
        "# SELECT\n",
        "print(\"País de origen:\")\n",
        "cursor.execute(\"SELECT * FROM Pais\")\n",
        "items = cursor.fetchall()\n",
        "for id, pais in items:\n",
        "    print(f\"\\t{id}: {pais}\")\n",
        "\n",
        "while True:\n",
        "    entrada = int(input(\"Seleccione opción: \"))\n",
        "    if entrada in [x[0] for x in items]:\n",
        "        break\n",
        "    else:\n",
        "        continue\n",
        "pais_origen_id = entrada\n",
        "\n",
        "# INSERT\n",
        "sql = \"INSERT INTO Cliente (nombre, apellido, nacimiento, pais_origen_id) VALUES (?,?,?,?)\"\n",
        "cursor.execute(sql, (nombre, apellido, nacimiento, pais_origen_id))\n",
        "conexion.commit()\n",
        "\n",
        "print(\"Cliente creado\")"
      ],
      "metadata": {
        "id": "T9EHIpzotzoh"
      },
      "execution_count": null,
      "outputs": []
    },
    {
      "cell_type": "code",
      "source": [
        "cursor.execute(\"SELECT * FROM Cliente\")\n",
        "print(cursor.fetchall())"
      ],
      "metadata": {
        "id": "HrIkNfvc7YhL"
      },
      "execution_count": null,
      "outputs": []
    },
    {
      "cell_type": "code",
      "source": [
        "cursor.execute(\"\"\"\n",
        "            SELECT Cliente.id, Cliente.nombre, apellido, nacimiento, Pais.nombre\n",
        "            FROM Cliente INNER JOIN Pais ON Cliente.pais_origen_id = Pais.id\n",
        "        \"\"\")\n",
        "items = cursor.fetchall()\n",
        "\n",
        "encabezado = f\"{'ID':<5} | {'NOMBRE':<10} | {'APELLIDO':<15} | {'NACIMIENTO':<15} | {'PAIS ORIGEN':<15}\"\n",
        "print(encabezado + \"\\n\" + len(encabezado) * \"=\")\n",
        "for item in items:\n",
        "    print(f\"{item[0]:<5} | {item[1]:<10} | {item[2]:<15} | {item[3]:<15} | {item[4]:<15}\")"
      ],
      "metadata": {
        "id": "1h3rVimf6eNr"
      },
      "execution_count": null,
      "outputs": []
    },
    {
      "cell_type": "markdown",
      "source": [
        "### Cliente_Producto"
      ],
      "metadata": {
        "id": "ySaNxGq6-06p"
      }
    },
    {
      "cell_type": "code",
      "source": [
        "print(\"CLIENTE COMPRA PRODUCTO\")\n",
        "\n",
        "# SELECT\n",
        "print(\"Clientes:\")\n",
        "cursor.execute(\"SELECT * FROM Cliente\")\n",
        "items = cursor.fetchall()\n",
        "for item in items:\n",
        "    print(f\"\\t{item[0]}: {item[1]} {item[2]}\")\n",
        "\n",
        "while True:\n",
        "    entrada = int(input(\"Seleccione opción: \"))\n",
        "    if entrada in [x[0] for x in items]:\n",
        "        break\n",
        "    else:\n",
        "        continue\n",
        "if entrada == \"\":\n",
        "    entrada = None\n",
        "cliente_id = entrada\n",
        "\n",
        "print(\"Productos:\")\n",
        "cursor.execute(\"SELECT * FROM Producto\")\n",
        "items = cursor.fetchall()\n",
        "for id, producto in items:\n",
        "    print(f\"\\t{id}: {producto}\")\n",
        "\n",
        "while True:\n",
        "    entrada = int(input(\"Seleccione opción: \"))\n",
        "    if entrada in [x[0] for x in items]:\n",
        "        break\n",
        "    else:\n",
        "        continue\n",
        "if entrada == \"\":\n",
        "    entrada = None\n",
        "producto_id = entrada\n",
        "\n",
        "# INSERT\n",
        "sql = \"INSERT INTO Cliente_Producto (cliente_id, producto_id) VALUES (?,?)\"\n",
        "cursor.execute(sql, (cliente_id, producto_id))\n",
        "conexion.commit()\n",
        "print(\"Cliente - Transacción exitosa\")"
      ],
      "metadata": {
        "id": "FFODYXxK-3JK"
      },
      "execution_count": null,
      "outputs": []
    },
    {
      "cell_type": "code",
      "source": [
        "cursor.execute(\"SELECT * FROM Cliente_Producto\")\n",
        "print(cursor.fetchall())"
      ],
      "metadata": {
        "id": "7pN27Z_ljKv3"
      },
      "execution_count": null,
      "outputs": []
    },
    {
      "cell_type": "code",
      "source": [
        "cursor.execute(\"\"\"\n",
        "            SELECT Cliente_Producto.id, Cliente.nombre, Cliente.apellido, Producto.nombre\n",
        "            FROM Cliente_Producto \n",
        "            INNER JOIN Cliente ON Cliente_Producto.cliente_id = Cliente.id\n",
        "            INNER JOIN Producto ON Cliente_Producto.producto_id = Producto.id\n",
        "        \"\"\")\n",
        "items = cursor.fetchall()\n",
        "\n",
        "encabezado = f\"{'ID':<5} | {'CLIENTE':<25} | {'PRODUCTO':<15}\"\n",
        "print(encabezado + \"\\n\" + len(encabezado) * \"=\")\n",
        "for item in items:\n",
        "    cliente = item[1] + \" \" + item[2]\n",
        "    print(f\"{item[0]:<5} | {cliente:<25} | {item[3]:15}\")"
      ],
      "metadata": {
        "id": "-w4VRG7MjeJm"
      },
      "execution_count": null,
      "outputs": []
    },
    {
      "cell_type": "markdown",
      "source": [
        "# Consultas con condiciones"
      ],
      "metadata": {
        "id": "BBq7jrTIuzl-"
      }
    },
    {
      "cell_type": "code",
      "source": [
        "cursor.execute(\"\"\"\n",
        "            SELECT Cliente_Producto.id, Cliente.nombre, Cliente.apellido, Producto.nombre\n",
        "            FROM Cliente_Producto \n",
        "            INNER JOIN Cliente ON Cliente_Producto.cliente_id = Cliente.id\n",
        "            INNER JOIN Producto ON Cliente_Producto.producto_id = Producto.id\n",
        "            ORDER BY Producto.nombre DESC\n",
        "        \"\"\")\n",
        "items = cursor.fetchall()\n",
        "for item in items:\n",
        "    print(item)"
      ],
      "metadata": {
        "id": "PPBYfG6Xu2FH"
      },
      "execution_count": null,
      "outputs": []
    },
    {
      "cell_type": "code",
      "source": [
        "cursor.execute(\"\"\"\n",
        "            SELECT Cliente_Producto.id, Cliente.nombre, Cliente.apellido, Producto.nombre\n",
        "            FROM Cliente_Producto \n",
        "            INNER JOIN Cliente ON Cliente_Producto.cliente_id = Cliente.id\n",
        "            INNER JOIN Producto ON Cliente_Producto.producto_id = Producto.id\n",
        "            WHERE Producto.nombre = \"leche\"\n",
        "        \"\"\")\n",
        "items = cursor.fetchall()\n",
        "for item in items:\n",
        "    print(item)"
      ],
      "metadata": {
        "id": "6Rh0NfmSvx8E"
      },
      "execution_count": null,
      "outputs": []
    },
    {
      "cell_type": "code",
      "source": [
        "cursor.execute(\"\"\"\n",
        "            SELECT Cliente_Producto.id, Cliente.nombre, Cliente.apellido, Producto.nombre\n",
        "            FROM Cliente_Producto \n",
        "            INNER JOIN Cliente ON Cliente_Producto.cliente_id = Cliente.id\n",
        "            INNER JOIN Producto ON Cliente_Producto.producto_id = Producto.id\n",
        "            WHERE Cliente.nombre LIKE \"%cint%\"\n",
        "        \"\"\")\n",
        "items = cursor.fetchall()\n",
        "for item in items:\n",
        "    print(item)"
      ],
      "metadata": {
        "id": "5jlHTtAywYRL"
      },
      "execution_count": null,
      "outputs": []
    },
    {
      "cell_type": "markdown",
      "source": [
        "# Modificación de registros"
      ],
      "metadata": {
        "id": "F64nYRUDuEDb"
      }
    },
    {
      "cell_type": "code",
      "source": [
        "print(\"Modificando cliente.\")\n",
        "apellido_cambiar = input(\"Ingrese apellido a cambiar: \")\n",
        "apellido_nuevo = input(\"Ingrese apellido nuevo: \")\n",
        "\n",
        "sql = \"UPDATE Cliente SET apellido = ? WHERE apellido = ?\"\n",
        "cursor.execute(sql, (apellido_nuevo, apellido_cambiar))\n",
        "conexion.commit()\n",
        "print(\"Registro modificado\")"
      ],
      "metadata": {
        "id": "PZXfYSZhucLm"
      },
      "execution_count": null,
      "outputs": []
    },
    {
      "cell_type": "code",
      "source": [
        "cursor.execute(\"SELECT * FROM Cliente\")\n",
        "items = cursor.fetchall()\n",
        "for item in items:\n",
        "    print(item)"
      ],
      "metadata": {
        "id": "W-vJrBW90stg"
      },
      "execution_count": null,
      "outputs": []
    },
    {
      "cell_type": "markdown",
      "source": [
        "# Eliminación de registros"
      ],
      "metadata": {
        "id": "iNYgbWiM4E7l"
      }
    },
    {
      "cell_type": "code",
      "source": [
        "print(\"Eliminando producto.\")\n",
        "producto_eliminar = input(\"Ingrese producto a eliminar: \")\n",
        "\n",
        "sql = \"DELETE FROM Producto WHERE nombre = ?\"\n",
        "cursor.execute(sql, (producto_eliminar,))\n",
        "conexion.commit()\n",
        "print(\"Registro eliminado\")"
      ],
      "metadata": {
        "id": "0jVdvAuC4HFr"
      },
      "execution_count": null,
      "outputs": []
    },
    {
      "cell_type": "code",
      "source": [
        "cursor.execute(\"SELECT * FROM Producto\")\n",
        "items = cursor.fetchall()\n",
        "for item in items:\n",
        "    print(item)"
      ],
      "metadata": {
        "id": "t3GfEV8B48Mk"
      },
      "execution_count": null,
      "outputs": []
    },
    {
      "cell_type": "code",
      "source": [
        "sql = \"DELETE FROM Pais WHERE nombre = ?\"\n",
        "cursor.execute(sql, (\"Argentina\",))\n",
        "conexion.commit()\n",
        "print(\"Registro eliminado\")"
      ],
      "metadata": {
        "id": "3ArwTgXU96dR"
      },
      "execution_count": null,
      "outputs": []
    },
    {
      "cell_type": "code",
      "source": [
        "cursor.execute(\"SELECT * FROM Pais\")\n",
        "items = cursor.fetchall()\n",
        "for item in items:\n",
        "    print(item)"
      ],
      "metadata": {
        "id": "4GsvS5AAm3h8"
      },
      "execution_count": null,
      "outputs": []
    },
    {
      "cell_type": "code",
      "source": [
        "cursor.execute(\"SELECT * FROM Cliente\")\n",
        "items = cursor.fetchall()\n",
        "for item in items:\n",
        "    print(item)"
      ],
      "metadata": {
        "id": "NQwX2jPm-Dgg"
      },
      "execution_count": null,
      "outputs": []
    },
    {
      "cell_type": "code",
      "source": [
        "cursor.execute(\"SELECT * FROM Cliente_Producto\")\n",
        "items = cursor.fetchall()\n",
        "for item in items:\n",
        "    print(item)"
      ],
      "metadata": {
        "id": "JyEImMgm7EFG"
      },
      "execution_count": null,
      "outputs": []
    },
    {
      "cell_type": "code",
      "source": [
        "cursor.execute(\"\"\"\n",
        "            SELECT Cliente_Producto.id, Cliente.nombre, Cliente.apellido, Producto.nombre\n",
        "            FROM Cliente_Producto \n",
        "            INNER JOIN Cliente ON Cliente_Producto.cliente_id = Cliente.id\n",
        "            INNER JOIN Producto ON Cliente_Producto.producto_id = Producto.id\n",
        "        \"\"\")\n",
        "items = cursor.fetchall()\n",
        "\n",
        "encabezado = f\"{'ID':<5} | {'CLIENTE':<25} | {'PRODUCTO':<15}\"\n",
        "print(encabezado + \"\\n\" + len(encabezado) * \"=\")\n",
        "for item in items:\n",
        "    cliente = item[1] + \" \" + item[2]\n",
        "    print(f\"{item[0]:<5} | {cliente:<25} | {item[3]:15}\")"
      ],
      "metadata": {
        "id": "fewyB-lFnfAs"
      },
      "execution_count": null,
      "outputs": []
    }
  ]
}